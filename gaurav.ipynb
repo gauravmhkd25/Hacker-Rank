{
  "nbformat": 4,
  "nbformat_minor": 0,
  "metadata": {
    "colab": {
      "name": "gaurav",
      "provenance": [],
      "authorship_tag": "ABX9TyPNTBQTl60QWZY9bw3gBo+s",
      "include_colab_link": true
    },
    "kernelspec": {
      "name": "python3",
      "display_name": "Python 3"
    }
  },
  "cells": [
    {
      "cell_type": "markdown",
      "metadata": {
        "id": "view-in-github",
        "colab_type": "text"
      },
      "source": [
        "<a href=\"https://colab.research.google.com/github/gauravmhkd25/Hacker-Rank/blob/master/gaurav.ipynb\" target=\"_parent\"><img src=\"https://colab.research.google.com/assets/colab-badge.svg\" alt=\"Open In Colab\"/></a>"
      ]
    },
    {
      "cell_type": "code",
      "metadata": {
        "id": "b5TWRWw9y0Ap",
        "colab_type": "code",
        "colab": {}
      },
      "source": [
        "import requests"
      ],
      "execution_count": 1,
      "outputs": []
    },
    {
      "cell_type": "code",
      "metadata": {
        "id": "IzLsKpvQy489",
        "colab_type": "code",
        "colab": {}
      },
      "source": [
        "#we have to make 3 things\n",
        "# 1) Client - yes\n",
        "# 2) Requests -  yes\n",
        "# 3) Server - yes\n",
        "\n",
        "\n",
        "# step1 - to make a server called google\n",
        "# step2 - to make a device which sends the requests.\n",
        "# step3 - receive the requests\n"
      ],
      "execution_count": 2,
      "outputs": []
    },
    {
      "cell_type": "code",
      "metadata": {
        "id": "ZMZHTeHBzbAj",
        "colab_type": "code",
        "colab": {}
      },
      "source": [
        "import requests\n",
        "\n",
        "\n",
        "\n",
        "req_dictionary = {\"how is the weather\":\"its 28 deg C and cloudy\",\n",
        "                  \"how tall is burj Khalifa\":\"828 meters\",\n",
        "                  \"convert 1kg into grams\":\"1kg is 1000 grams\"}\n",
        "\n",
        "#def = definition or function or program or code\n",
        "# requirements: ip address and req(requests)\n",
        "def google_server(ip=None,req=None):\n",
        "    if ip is None and req is None:\n",
        "        return \"Hi Server is on!\"\n",
        "    elif req in req_dictionary:\n",
        "        return \"to this ip: \",ip,\"post answer: \",req_dictionary[req]\n",
        "        \n"
      ],
      "execution_count": 3,
      "outputs": []
    },
    {
      "cell_type": "code",
      "metadata": {
        "id": "cuDIrmYizdrr",
        "colab_type": "code",
        "colab": {
          "base_uri": "https://localhost:8080/",
          "height": 34
        },
        "outputId": "df073ec8-5b4e-442d-a149-7c21d77b21c7"
      },
      "source": [
        "print(google_server(\"192.168.0.1\",\"how is the weather\"))"
      ],
      "execution_count": 4,
      "outputs": [
        {
          "output_type": "stream",
          "text": [
            "('to this ip: ', '192.168.0.1', 'post answer: ', 'its 28 deg C and cloudy')\n"
          ],
          "name": "stdout"
        }
      ]
    },
    {
      "cell_type": "code",
      "metadata": {
        "id": "KTL9BSFcznO4",
        "colab_type": "code",
        "colab": {}
      },
      "source": [
        ""
      ],
      "execution_count": null,
      "outputs": []
    }
  ]
}